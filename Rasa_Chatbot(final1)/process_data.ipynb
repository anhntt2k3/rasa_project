{
 "cells": [
  {
   "cell_type": "code",
   "execution_count": null,
   "metadata": {},
   "outputs": [
    {
     "name": "stdout",
     "output_type": "stream",
     "text": [
      "Collecting underthesea\n",
      "  Downloading underthesea-6.8.4-py3-none-any.whl.metadata (15 kB)\n",
      "Collecting textblob\n",
      "  Downloading textblob-0.19.0-py3-none-any.whl.metadata (4.4 kB)\n",
      "Collecting spellchecker\n",
      "  Downloading spellchecker-0.4.tar.gz (3.9 MB)\n",
      "     ---------------------------------------- 0.0/3.9 MB ? eta -:--:--\n",
      "     -- ------------------------------------- 0.3/3.9 MB ? eta -:--:--\n",
      "     ------------------ --------------------- 1.8/3.9 MB 7.2 MB/s eta 0:00:01\n",
      "     ----------------------------- ---------- 2.9/3.9 MB 5.4 MB/s eta 0:00:01\n",
      "     ---------------------------------- ----- 3.4/3.9 MB 4.8 MB/s eta 0:00:01\n",
      "     ---------------------------------------- 3.9/3.9 MB 4.4 MB/s eta 0:00:00\n",
      "  Preparing metadata (setup.py): started\n",
      "  Preparing metadata (setup.py): finished with status 'done'\n",
      "Collecting nltk\n",
      "  Downloading nltk-3.9.1-py3-none-any.whl.metadata (2.9 kB)\n",
      "Requirement already satisfied: Click>=6.0 in c:\\users\\admin\\appdata\\local\\programs\\python\\python39\\lib\\site-packages (from underthesea) (8.1.8)\n",
      "Requirement already satisfied: python-crfsuite>=0.9.6 in c:\\users\\admin\\appdata\\local\\programs\\python\\python39\\lib\\site-packages (from underthesea) (0.9.11)\n",
      "Requirement already satisfied: tqdm in c:\\users\\admin\\appdata\\local\\programs\\python\\python39\\lib\\site-packages (from underthesea) (4.67.1)\n",
      "Requirement already satisfied: requests in c:\\users\\admin\\appdata\\local\\programs\\python\\python39\\lib\\site-packages (from underthesea) (2.32.3)\n",
      "Requirement already satisfied: joblib in c:\\users\\admin\\appdata\\local\\programs\\python\\python39\\lib\\site-packages (from underthesea) (1.4.2)\n",
      "Requirement already satisfied: scikit-learn in c:\\users\\admin\\appdata\\local\\programs\\python\\python39\\lib\\site-packages (from underthesea) (1.1.3)\n",
      "Requirement already satisfied: PyYAML in c:\\users\\admin\\appdata\\local\\programs\\python\\python39\\lib\\site-packages (from underthesea) (6.0.2)\n",
      "Collecting underthesea-core==1.0.4 (from underthesea)\n",
      "  Downloading underthesea_core-1.0.4-cp39-none-win_amd64.whl.metadata (1.8 kB)\n",
      "Requirement already satisfied: setuptools in c:\\users\\admin\\appdata\\local\\programs\\python\\python39\\lib\\site-packages (from spellchecker) (70.3.0)\n",
      "Collecting inexactsearch (from spellchecker)\n",
      "  Downloading inexactsearch-1.0.2.tar.gz (21 kB)\n",
      "  Preparing metadata (setup.py): started\n",
      "  Preparing metadata (setup.py): finished with status 'done'\n",
      "Requirement already satisfied: regex>=2021.8.3 in c:\\users\\admin\\appdata\\local\\programs\\python\\python39\\lib\\site-packages (from nltk) (2022.10.31)\n",
      "Requirement already satisfied: colorama in c:\\users\\admin\\appdata\\roaming\\python\\python39\\site-packages (from Click>=6.0->underthesea) (0.4.6)\n",
      "Collecting soundex>=1.0 (from inexactsearch->spellchecker)\n",
      "  Downloading soundex-1.1.3.tar.gz (9.1 kB)\n",
      "  Preparing metadata (setup.py): started\n",
      "  Preparing metadata (setup.py): finished with status 'done'\n",
      "Collecting silpa_common>=0.3 (from inexactsearch->spellchecker)\n",
      "  Downloading silpa_common-0.3.tar.gz (9.4 kB)\n",
      "  Preparing metadata (setup.py): started\n",
      "  Preparing metadata (setup.py): finished with status 'done'\n",
      "Requirement already satisfied: charset-normalizer<4,>=2 in c:\\users\\admin\\appdata\\local\\programs\\python\\python39\\lib\\site-packages (from requests->underthesea) (3.4.1)\n",
      "Requirement already satisfied: idna<4,>=2.5 in c:\\users\\admin\\appdata\\local\\programs\\python\\python39\\lib\\site-packages (from requests->underthesea) (3.10)\n",
      "Requirement already satisfied: urllib3<3,>=1.21.1 in c:\\users\\admin\\appdata\\local\\programs\\python\\python39\\lib\\site-packages (from requests->underthesea) (1.26.20)\n",
      "Requirement already satisfied: certifi>=2017.4.17 in c:\\users\\admin\\appdata\\local\\programs\\python\\python39\\lib\\site-packages (from requests->underthesea) (2025.1.31)\n",
      "Requirement already satisfied: numpy>=1.17.3 in c:\\users\\admin\\appdata\\local\\programs\\python\\python39\\lib\\site-packages (from scikit-learn->underthesea) (1.26.4)\n",
      "Requirement already satisfied: scipy>=1.3.2 in c:\\users\\admin\\appdata\\local\\programs\\python\\python39\\lib\\site-packages (from scikit-learn->underthesea) (1.10.1)\n",
      "Requirement already satisfied: threadpoolctl>=2.0.0 in c:\\users\\admin\\appdata\\local\\programs\\python\\python39\\lib\\site-packages (from scikit-learn->underthesea) (3.5.0)\n",
      "Downloading underthesea-6.8.4-py3-none-any.whl (20.9 MB)\n",
      "   ---------------------------------------- 0.0/20.9 MB ? eta -:--:--\n",
      "   - -------------------------------------- 0.5/20.9 MB 2.8 MB/s eta 0:00:08\n",
      "   -- ------------------------------------- 1.3/20.9 MB 3.2 MB/s eta 0:00:07\n",
      "   --- ------------------------------------ 1.8/20.9 MB 3.2 MB/s eta 0:00:06\n",
      "   ----- ---------------------------------- 2.6/20.9 MB 3.3 MB/s eta 0:00:06\n",
      "   ------ --------------------------------- 3.4/20.9 MB 3.3 MB/s eta 0:00:06\n",
      "   -------- ------------------------------- 4.2/20.9 MB 3.4 MB/s eta 0:00:05\n",
      "   --------- ------------------------------ 4.7/20.9 MB 3.3 MB/s eta 0:00:05\n",
      "   ---------- ----------------------------- 5.2/20.9 MB 3.2 MB/s eta 0:00:05\n",
      "   ----------- ---------------------------- 5.8/20.9 MB 3.1 MB/s eta 0:00:05\n",
      "   ------------ --------------------------- 6.6/20.9 MB 3.1 MB/s eta 0:00:05\n",
      "   ------------- -------------------------- 7.1/20.9 MB 3.1 MB/s eta 0:00:05\n",
      "   --------------- ------------------------ 7.9/20.9 MB 3.1 MB/s eta 0:00:05\n",
      "   --------------- ------------------------ 8.1/20.9 MB 3.0 MB/s eta 0:00:05\n",
      "   ---------------- ----------------------- 8.4/20.9 MB 2.9 MB/s eta 0:00:05\n",
      "   ---------------- ----------------------- 8.7/20.9 MB 2.7 MB/s eta 0:00:05\n",
      "   ----------------- ---------------------- 8.9/20.9 MB 2.6 MB/s eta 0:00:05\n",
      "   ----------------- ---------------------- 9.2/20.9 MB 2.6 MB/s eta 0:00:05\n",
      "   ------------------ --------------------- 9.4/20.9 MB 2.5 MB/s eta 0:00:05\n",
      "   ------------------ --------------------- 9.7/20.9 MB 2.5 MB/s eta 0:00:05\n",
      "   ------------------- -------------------- 10.0/20.9 MB 2.4 MB/s eta 0:00:05\n",
      "   -------------------- ------------------- 10.5/20.9 MB 2.4 MB/s eta 0:00:05\n",
      "   -------------------- ------------------- 10.7/20.9 MB 2.3 MB/s eta 0:00:05\n",
      "   --------------------- ------------------ 11.3/20.9 MB 2.3 MB/s eta 0:00:05\n",
      "   ---------------------- ----------------- 11.5/20.9 MB 2.3 MB/s eta 0:00:05\n",
      "   ----------------------- ---------------- 12.1/20.9 MB 2.3 MB/s eta 0:00:04\n",
      "   ------------------------ --------------- 12.6/20.9 MB 2.3 MB/s eta 0:00:04\n",
      "   ------------------------ --------------- 12.8/20.9 MB 2.3 MB/s eta 0:00:04\n",
      "   ------------------------- -------------- 13.4/20.9 MB 2.3 MB/s eta 0:00:04\n",
      "   -------------------------- ------------- 13.9/20.9 MB 2.3 MB/s eta 0:00:04\n",
      "   --------------------------- ------------ 14.2/20.9 MB 2.3 MB/s eta 0:00:03\n",
      "   --------------------------- ------------ 14.4/20.9 MB 2.3 MB/s eta 0:00:03\n",
      "   ---------------------------- ----------- 14.7/20.9 MB 2.2 MB/s eta 0:00:03\n",
      "   ---------------------------- ----------- 14.9/20.9 MB 2.2 MB/s eta 0:00:03\n",
      "   ----------------------------- ---------- 15.2/20.9 MB 2.1 MB/s eta 0:00:03\n",
      "   ----------------------------- ---------- 15.5/20.9 MB 2.1 MB/s eta 0:00:03\n",
      "   ------------------------------ --------- 15.7/20.9 MB 2.1 MB/s eta 0:00:03\n",
      "   ------------------------------ --------- 16.0/20.9 MB 2.0 MB/s eta 0:00:03\n",
      "   ------------------------------- -------- 16.3/20.9 MB 2.0 MB/s eta 0:00:03\n",
      "   ------------------------------- -------- 16.5/20.9 MB 2.0 MB/s eta 0:00:03\n",
      "   -------------------------------- ------- 16.8/20.9 MB 2.0 MB/s eta 0:00:03\n",
      "   --------------------------------- ------ 17.3/20.9 MB 2.0 MB/s eta 0:00:02\n",
      "   --------------------------------- ------ 17.6/20.9 MB 2.0 MB/s eta 0:00:02\n",
      "   ---------------------------------- ----- 18.1/20.9 MB 2.0 MB/s eta 0:00:02\n",
      "   ----------------------------------- ---- 18.4/20.9 MB 2.0 MB/s eta 0:00:02\n",
      "   ----------------------------------- ---- 18.6/20.9 MB 2.0 MB/s eta 0:00:02\n",
      "   ------------------------------------ --- 19.1/20.9 MB 2.0 MB/s eta 0:00:01\n",
      "   ------------------------------------- -- 19.4/20.9 MB 2.0 MB/s eta 0:00:01\n",
      "   ------------------------------------- -- 19.7/20.9 MB 1.9 MB/s eta 0:00:01\n",
      "   -------------------------------------- - 20.2/20.9 MB 1.9 MB/s eta 0:00:01\n",
      "   ---------------------------------------  20.4/20.9 MB 1.9 MB/s eta 0:00:01\n",
      "   ---------------------------------------- 20.9/20.9 MB 1.9 MB/s eta 0:00:00\n",
      "Downloading underthesea_core-1.0.4-cp39-none-win_amd64.whl (553 kB)\n",
      "   ---------------------------------------- 0.0/553.2 kB ? eta -:--:--\n",
      "   ------------------ --------------------- 262.1/553.2 kB ? eta -:--:--\n",
      "   ---------------------------------------- 553.2/553.2 kB 1.9 MB/s eta 0:00:00\n",
      "Downloading textblob-0.19.0-py3-none-any.whl (624 kB)\n",
      "   ---------------------------------------- 0.0/624.3 kB ? eta -:--:--\n",
      "   ---------------- ----------------------- 262.1/624.3 kB ? eta -:--:--\n",
      "   ---------------------------------------- 624.3/624.3 kB 1.9 MB/s eta 0:00:00\n",
      "Downloading nltk-3.9.1-py3-none-any.whl (1.5 MB)\n",
      "   ---------------------------------------- 0.0/1.5 MB ? eta -:--:--\n",
      "   ------ --------------------------------- 0.3/1.5 MB ? eta -:--:--\n",
      "   ------------- -------------------------- 0.5/1.5 MB 2.1 MB/s eta 0:00:01\n",
      "   --------------------------- ------------ 1.0/1.5 MB 1.7 MB/s eta 0:00:01\n",
      "   --------------------------- ------------ 1.0/1.5 MB 1.7 MB/s eta 0:00:01\n",
      "   ---------------------------------- ----- 1.3/1.5 MB 1.4 MB/s eta 0:00:01\n",
      "   ---------------------------------------- 1.5/1.5 MB 1.3 MB/s eta 0:00:00\n",
      "Building wheels for collected packages: spellchecker, inexactsearch, silpa_common, soundex\n",
      "  Building wheel for spellchecker (setup.py): started\n",
      "  Building wheel for spellchecker (setup.py): finished with status 'done'\n",
      "  Created wheel for spellchecker: filename=spellchecker-0.4-py3-none-any.whl size=3966507 sha256=e7f2843a11b63f0eb3acfdb29a7cfb1e1bc8845b0d8f786d8829010712957473\n",
      "  Stored in directory: c:\\users\\admin\\appdata\\local\\pip\\cache\\wheels\\8c\\52\\b3\\8795c86fe999a3b1a7d0f1b75a197fd984e37057cb537e2977\n",
      "  Building wheel for inexactsearch (setup.py): started\n",
      "  Building wheel for inexactsearch (setup.py): finished with status 'done'\n",
      "  Created wheel for inexactsearch: filename=inexactsearch-1.0.2-py3-none-any.whl size=7148 sha256=b7ed3bfd3ea46acbb062307fee95c29daa4e7ee185be3b5f83ffb07e9cf6c3e3\n",
      "  Stored in directory: c:\\users\\admin\\appdata\\local\\pip\\cache\\wheels\\da\\15\\83\\b2b0adf6ebb17b0c7b8de4a901f0585ceb7627788a80071de0\n",
      "  Building wheel for silpa_common (setup.py): started\n",
      "  Building wheel for silpa_common (setup.py): finished with status 'done'\n",
      "  Created wheel for silpa_common: filename=silpa_common-0.3-py3-none-any.whl size=8485 sha256=aff145f32b4a773d39b871d195f7b6fe28d3d1c4d50b3c11014bb86a69252fb7\n",
      "  Stored in directory: c:\\users\\admin\\appdata\\local\\pip\\cache\\wheels\\a6\\6f\\59\\e83ae5c4ca78098dbecd1708dc7cd6856f202c0a008d8c3340\n",
      "  Building wheel for soundex (setup.py): started\n",
      "  Building wheel for soundex (setup.py): finished with status 'done'\n",
      "  Created wheel for soundex: filename=soundex-1.1.3-py3-none-any.whl size=8890 sha256=2c2b0f73d90294786f46a455228ef4d270c87b68e4ef0d7f8c2c8b37fdff231b\n",
      "  Stored in directory: c:\\users\\admin\\appdata\\local\\pip\\cache\\wheels\\e8\\fb\\75\\027059566520e35a1388cc49b69c84f6a28c4d530a5944ff55\n",
      "Successfully built spellchecker inexactsearch silpa_common soundex\n",
      "Installing collected packages: underthesea-core, silpa_common, soundex, nltk, underthesea, textblob, inexactsearch, spellchecker\n",
      "Successfully installed inexactsearch-1.0.2 nltk-3.9.1 silpa_common-0.3 soundex-1.1.3 spellchecker-0.4 textblob-0.19.0 underthesea-6.8.4 underthesea-core-1.0.4\n"
     ]
    }
   ],
   "source": [
    "# !pip install underthesea textblob spellchecker nltk"
   ]
  },
  {
   "cell_type": "code",
   "execution_count": 4,
   "metadata": {},
   "outputs": [],
   "source": [
    "import pandas as pd\n",
    "import re\n",
    "from langdetect import detect\n",
    "from underthesea import text_normalize\n",
    "from textblob import TextBlob\n",
    "from spellchecker import SpellChecker\n",
    "import nltk"
   ]
  },
  {
   "cell_type": "code",
   "execution_count": 5,
   "metadata": {},
   "outputs": [
    {
     "name": "stderr",
     "output_type": "stream",
     "text": [
      "[nltk_data] Downloading package punkt to\n",
      "[nltk_data]     C:\\Users\\Admin\\AppData\\Roaming\\nltk_data...\n",
      "[nltk_data]   Unzipping tokenizers\\punkt.zip.\n"
     ]
    },
    {
     "data": {
      "text/plain": [
       "True"
      ]
     },
     "execution_count": 5,
     "metadata": {},
     "output_type": "execute_result"
    }
   ],
   "source": [
    "nltk.download('punkt')"
   ]
  },
  {
   "cell_type": "code",
   "execution_count": 6,
   "metadata": {},
   "outputs": [],
   "source": [
    "# Khởi tạo spellchecker cho tiếng Việt\n",
    "spell_vi = SpellChecker(language=None)\n",
    "spell_vi.word_frequency.load_words([\"công nghệ\", \"thông tin\", \"học máy\", \"MOR\"])"
   ]
  },
  {
   "cell_type": "code",
   "execution_count": 7,
   "metadata": {},
   "outputs": [],
   "source": [
    "# 📌 1. Xác định ngôn ngữ\n",
    "def detect_language(text):\n",
    "    try:\n",
    "        lang = detect(text)\n",
    "        return lang if lang in [\"en\", \"vi\"] else \"unknown\"\n",
    "    except:\n",
    "        return \"unknown\""
   ]
  },
  {
   "cell_type": "code",
   "execution_count": 8,
   "metadata": {},
   "outputs": [],
   "source": [
    "# 📌 2. Làm sạch dữ liệu chung\n",
    "def clean_text(text):\n",
    "    text = text.strip()  # Xóa khoảng trắng đầu/cuối\n",
    "    text = re.sub(r'\\s+', ' ', text)  # Chuẩn hóa khoảng trắng\n",
    "    text = re.sub(r'[^\\w\\s,.!?-]', '', text)  # Loại bỏ ký tự đặc biệt không mong muốn\n",
    "    return text"
   ]
  },
  {
   "cell_type": "code",
   "execution_count": 9,
   "metadata": {},
   "outputs": [],
   "source": [
    "# 📌 3. Chuẩn hóa tiếng Việt\n",
    "def normalize_vietnamese(text):\n",
    "    return text_normalize(text)\n",
    "\n",
    "def correct_spelling_vietnamese(text):\n",
    "    words = text.split()\n",
    "    corrected_text = \" \".join([spell_vi.correction(word) or word for word in words])\n",
    "    return corrected_text"
   ]
  },
  {
   "cell_type": "code",
   "execution_count": 10,
   "metadata": {},
   "outputs": [],
   "source": [
    "# 📌 4. Chuẩn hóa tiếng Anh\n",
    "def normalize_english(text):\n",
    "    text = text.lower()\n",
    "    return text\n",
    "\n",
    "def correct_english_spelling(text):\n",
    "    return str(TextBlob(text).correct())"
   ]
  },
  {
   "cell_type": "code",
   "execution_count": 11,
   "metadata": {},
   "outputs": [],
   "source": [
    "# 📌 5. Tiền xử lý văn bản chung\n",
    "def preprocess_text(text):\n",
    "    lang = detect_language(text)\n",
    "    text = clean_text(text)\n",
    "    \n",
    "    if lang == \"vi\":\n",
    "        text = normalize_vietnamese(text)\n",
    "        text = correct_spelling_vietnamese(text)\n",
    "    elif lang == \"en\":\n",
    "        text = normalize_english(text)\n",
    "        text = correct_english_spelling(text)\n",
    "\n",
    "    return text, lang\n"
   ]
  },
  {
   "cell_type": "code",
   "execution_count": 12,
   "metadata": {},
   "outputs": [],
   "source": [
    "# 📌 6. Đọc file CSV và chuẩn hóa dữ liệu\n",
    "def process_and_save_data(csv_file, output_file=\"processed_data.csv\"):\n",
    "    df = pd.read_csv(csv_file)\n",
    "    \n",
    "    if \"Question\" not in df.columns or \"Answer\" not in df.columns:\n",
    "        print(\"⚠️ Lỗi: File CSV phải có cột 'Question' và 'Answer'.\")\n",
    "        return\n",
    "    \n",
    "    processed_data = []\n",
    "\n",
    "    for _, row in df.iterrows():\n",
    "        question, q_lang = preprocess_text(str(row[\"Question\"]))\n",
    "        answer, a_lang = preprocess_text(str(row[\"Answer\"]))\n",
    "        \n",
    "        processed_data.append([question, q_lang, answer, a_lang])\n",
    "    \n",
    "    processed_df = pd.DataFrame(processed_data, columns=[\"Question\", \"Question_Language\", \"Answer\", \"Answer_Language\"])\n",
    "    processed_df.to_csv(output_file, index=False, encoding=\"utf-8-sig\")\n",
    "    \n",
    "    print(f\"✅ Dữ liệu đã được chuẩn hóa và lưu vào {output_file}\")"
   ]
  },
  {
   "cell_type": "code",
   "execution_count": 13,
   "metadata": {},
   "outputs": [
    {
     "name": "stdout",
     "output_type": "stream",
     "text": [
      "✅ Dữ liệu đã được chuẩn hóa và lưu vào processed_data.csv\n"
     ]
    }
   ],
   "source": [
    "# 📌 7. Chạy chương trình\n",
    "if __name__ == \"__main__\":\n",
    "    process_and_save_data(\"./database/database.csv\")"
   ]
  }
 ],
 "metadata": {
  "kernelspec": {
   "display_name": "Python 3",
   "language": "python",
   "name": "python3"
  },
  "language_info": {
   "codemirror_mode": {
    "name": "ipython",
    "version": 3
   },
   "file_extension": ".py",
   "mimetype": "text/x-python",
   "name": "python",
   "nbconvert_exporter": "python",
   "pygments_lexer": "ipython3",
   "version": "3.9.6"
  }
 },
 "nbformat": 4,
 "nbformat_minor": 2
}
